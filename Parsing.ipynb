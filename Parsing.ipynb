{
 "cells": [
  {
   "cell_type": "code",
   "execution_count": 8,
   "metadata": {},
   "outputs": [
    {
     "name": "stderr",
     "output_type": "stream",
     "text": [
      "[nltk_data] Downloading package punkt to\n",
      "[nltk_data]     C:\\Users\\prana\\AppData\\Roaming\\nltk_data...\n",
      "[nltk_data]   Package punkt is already up-to-date!\n"
     ]
    }
   ],
   "source": [
    "from nltk import ChartParser\n",
    "from nltk import CFG\n",
    "import nltk\n",
    "from nltk.parse import RecursiveDescentParser\n",
    "from nltk.draw import tree\n",
    "\n",
    "nltk.download('punkt')\n",
    "\n",
    "def top_parser(sentence,grammar):\n",
    "    parser = nltk.ChartParser(grammar)\n",
    "    for tree in parser.parse(sentence.split()):\n",
    "        print(tree)\n",
    "        \n",
    "def bottom_parser(sentence,grammar):\n",
    "    parser = nltk.ChartParser(grammar, trace = 1)\n",
    "    for tree in parser.parse(sentence.split()):\n",
    "        print(tree)\n",
    "\n",
    "if __name__ == '__main__':\n",
    "    sentence = \"the large can can hold the water\"\n",
    "    grammar = nltk.CFG.fromstring(\"\"\"\n",
    "        S -> NP VP\n",
    "        NP -> ART ADJ N\n",
    "        NP -> ADJ N\n",
    "        NP -> ART N\n",
    "        VP -> V NP\n",
    "        VP -> AUX VP\n",
    "        ART -> 'the'\n",
    "        ADJ -> 'large'\n",
    "        AUX -> 'can'\n",
    "        N -> 'can' | 'hold' | 'water'\n",
    "        V -> 'can' | 'hold' | 'water'\n",
    "    \"\"\")\n"
   ]
  },
  {
   "cell_type": "code",
   "execution_count": 25,
   "metadata": {},
   "outputs": [],
   "source": [
    "parser = nltk.RecursiveDescentParser(grammar)\n",
    "result = parser.parse(sentence.split())\n",
    "for tree in result:\n",
    "    print(tree)"
   ]
  },
  {
   "cell_type": "code",
   "execution_count": 9,
   "metadata": {},
   "outputs": [
    {
     "name": "stdout",
     "output_type": "stream",
     "text": [
      "<nltk.parse.chart.ChartParser object at 0x000002098E9004D0>\n",
      "(S\n",
      "  (NP (ART the) (ADJ large) (N can))\n",
      "  (VP (AUX can) (VP (V hold) (NP (ART the) (N water)))))\n"
     ]
    }
   ],
   "source": [
    "top_parser(sentence,grammar)"
   ]
  },
  {
   "cell_type": "code",
   "execution_count": 10,
   "metadata": {},
   "outputs": [
    {
     "name": "stdout",
     "output_type": "stream",
     "text": [
      "|. the .large. can . can . hold. the .water.|\n",
      "|[-----]     .     .     .     .     .     .| [0:1] 'the'\n",
      "|.     [-----]     .     .     .     .     .| [1:2] 'large'\n",
      "|.     .     [-----]     .     .     .     .| [2:3] 'can'\n",
      "|.     .     .     [-----]     .     .     .| [3:4] 'can'\n",
      "|.     .     .     .     [-----]     .     .| [4:5] 'hold'\n",
      "|.     .     .     .     .     [-----]     .| [5:6] 'the'\n",
      "|.     .     .     .     .     .     [-----]| [6:7] 'water'\n",
      "|[-----]     .     .     .     .     .     .| [0:1] ART -> 'the' *\n",
      "|[----->     .     .     .     .     .     .| [0:1] NP -> ART * ADJ N\n",
      "|[----->     .     .     .     .     .     .| [0:1] NP -> ART * N\n",
      "|.     [-----]     .     .     .     .     .| [1:2] ADJ -> 'large' *\n",
      "|.     [----->     .     .     .     .     .| [1:2] NP -> ADJ * N\n",
      "|[----------->     .     .     .     .     .| [0:2] NP -> ART ADJ * N\n",
      "|.     .     [-----]     .     .     .     .| [2:3] AUX -> 'can' *\n",
      "|.     .     [-----]     .     .     .     .| [2:3] N  -> 'can' *\n",
      "|.     .     [-----]     .     .     .     .| [2:3] V  -> 'can' *\n",
      "|.     .     [----->     .     .     .     .| [2:3] VP -> V * NP\n",
      "|.     [-----------]     .     .     .     .| [1:3] NP -> ADJ N *\n",
      "|[-----------------]     .     .     .     .| [0:3] NP -> ART ADJ N *\n",
      "|[----------------->     .     .     .     .| [0:3] S  -> NP * VP\n",
      "|.     [----------->     .     .     .     .| [1:3] S  -> NP * VP\n",
      "|.     .     [----->     .     .     .     .| [2:3] VP -> AUX * VP\n",
      "|.     .     .     [-----]     .     .     .| [3:4] AUX -> 'can' *\n",
      "|.     .     .     [-----]     .     .     .| [3:4] N  -> 'can' *\n",
      "|.     .     .     [-----]     .     .     .| [3:4] V  -> 'can' *\n",
      "|.     .     .     [----->     .     .     .| [3:4] VP -> V * NP\n",
      "|.     .     .     [----->     .     .     .| [3:4] VP -> AUX * VP\n",
      "|.     .     .     .     [-----]     .     .| [4:5] N  -> 'hold' *\n",
      "|.     .     .     .     [-----]     .     .| [4:5] V  -> 'hold' *\n",
      "|.     .     .     .     [----->     .     .| [4:5] VP -> V * NP\n",
      "|.     .     .     .     .     [-----]     .| [5:6] ART -> 'the' *\n",
      "|.     .     .     .     .     [----->     .| [5:6] NP -> ART * ADJ N\n",
      "|.     .     .     .     .     [----->     .| [5:6] NP -> ART * N\n",
      "|.     .     .     .     .     .     [-----]| [6:7] N  -> 'water' *\n",
      "|.     .     .     .     .     .     [-----]| [6:7] V  -> 'water' *\n",
      "|.     .     .     .     .     .     [----->| [6:7] VP -> V * NP\n",
      "|.     .     .     .     .     [-----------]| [5:7] NP -> ART N *\n",
      "|.     .     .     .     .     [----------->| [5:7] S  -> NP * VP\n",
      "|.     .     .     .     [-----------------]| [4:7] VP -> V NP *\n",
      "|.     .     .     [-----------------------]| [3:7] VP -> AUX VP *\n",
      "|[=========================================]| [0:7] S  -> NP VP *\n",
      "|.     [-----------------------------------]| [1:7] S  -> NP VP *\n",
      "|.     .     [-----------------------------]| [2:7] VP -> AUX VP *\n",
      "(S\n",
      "  (NP (ART the) (ADJ large) (N can))\n",
      "  (VP (AUX can) (VP (V hold) (NP (ART the) (N water)))))\n"
     ]
    }
   ],
   "source": [
    "bottom_parser(sentence,grammar)"
   ]
  }
 ],
 "metadata": {
  "kernelspec": {
   "display_name": "venv",
   "language": "python",
   "name": "python3"
  },
  "language_info": {
   "codemirror_mode": {
    "name": "ipython",
    "version": 3
   },
   "file_extension": ".py",
   "mimetype": "text/x-python",
   "name": "python",
   "nbconvert_exporter": "python",
   "pygments_lexer": "ipython3",
   "version": "3.11.4"
  }
 },
 "nbformat": 4,
 "nbformat_minor": 2
}
