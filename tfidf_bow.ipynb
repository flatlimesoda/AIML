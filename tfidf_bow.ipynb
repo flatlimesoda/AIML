{
 "cells": [
  {
   "cell_type": "code",
   "execution_count": 2,
   "metadata": {},
   "outputs": [
    {
     "name": "stdout",
     "output_type": "stream",
     "text": [
      "Feature Names: ['blue' 'bright' 'in' 'is' 'shining' 'sky' 'sun' 'the']\n",
      "\n",
      "Cosine Similarity for TF-IDF:\n",
      "[[1.         0.3065194  0.48650904]\n",
      " [0.3065194  1.         0.48650904]\n",
      " [0.48650904 0.48650904 1.        ]]\n"
     ]
    }
   ],
   "source": [
    "from sklearn.feature_extraction.text import CountVectorizer, TfidfVectorizer\n",
    "from sklearn.metrics.pairwise import cosine_similarity\n",
    "\n",
    "D1 = \"the sky is blue\"\n",
    "D2 = \"the sun is shining\"\n",
    "D3 = \"the sun in the sky is bright\"\n",
    "\n",
    "documents = [D1, D2, D3]\n",
    "\n",
    "tfidf_vectorizer = TfidfVectorizer()\n",
    "tfidf_matrix = tfidf_vectorizer.fit_transform(documents)\n",
    "\n",
    "\n",
    "feature_names = tfidf_vectorizer.get_feature_names_out()\n",
    "print(\"Feature Names:\", feature_names)\n",
    "\n",
    "cosine_sim_tfidf = cosine_similarity(tfidf_matrix)\n",
    "\n",
    "print(\"\\nCosine Similarity for TF-IDF:\")\n",
    "print(cosine_sim_tfidf)\n"
   ]
  },
  {
   "cell_type": "code",
   "execution_count": 3,
   "metadata": {},
   "outputs": [
    {
     "name": "stdout",
     "output_type": "stream",
     "text": [
      "Pairwise similarity matrix using Bag of Words:\n",
      "[[1.         0.5        0.66666667]\n",
      " [0.5        1.         0.66666667]\n",
      " [0.66666667 0.66666667 1.        ]]\n"
     ]
    }
   ],
   "source": [
    "from sklearn.feature_extraction.text import CountVectorizer\n",
    "from sklearn.metrics.pairwise import cosine_similarity\n",
    "\n",
    "def compute_similarity_bow(docs):\n",
    "    vectorizer = CountVectorizer().fit(docs)\n",
    "    bow_matrix = vectorizer.transform(docs)\n",
    "    similarity_matrix = cosine_similarity(bow_matrix)\n",
    "    return similarity_matrix\n",
    "\n",
    "\n",
    "D1 = \"the sky is blue\"\n",
    "D2 = \"the sun is shining\"\n",
    "D3 = \"the sun in the sky is bright\"\n",
    "\n",
    "docs = [D1, D2, D3]\n",
    "\n",
    "similarity_matrix_bow = compute_similarity_bow(docs)\n",
    "print('Pairwise similarity matrix using Bag of Words:')\n",
    "\n",
    "print(similarity_matrix_bow)"
   ]
  },
  {
   "cell_type": "code",
   "execution_count": 3,
   "metadata": {},
   "outputs": [
    {
     "name": "stdout",
     "output_type": "stream",
     "text": [
      "Pairwise similarity matrix using Bag of Words:\n",
      "[[1.         0.3065194  0.48650904]\n",
      " [0.3065194  1.         0.48650904]\n",
      " [0.48650904 0.48650904 1.        ]]\n"
     ]
    }
   ],
   "source": [
    "from sklearn.feature_extraction.text import CountVectorizer\n",
    "from sklearn.metrics.pairwise import cosine_similarity\n",
    "\n",
    "def compute_similarity_bow(docs):\n",
    "    vectorizer = TfidfVectorizer().fit(docs)\n",
    "    bow_matrix = vectorizer.transform(docs)\n",
    "    similarity_matrix = cosine_similarity(bow_matrix)\n",
    "    return similarity_matrix\n",
    "\n",
    "\n",
    "D1 = \"the sky is blue\"\n",
    "D2 = \"the sun is shining\"\n",
    "D3 = \"the sun in the sky is bright\"\n",
    "\n",
    "docs = [D1, D2, D3]\n",
    "\n",
    "similarity_matrix_bow = compute_similarity_bow(docs)\n",
    "print('Pairwise similarity matrix using Bag of Words:')\n",
    "\n",
    "print(similarity_matrix_bow)"
   ]
  },
  {
   "cell_type": "code",
   "execution_count": null,
   "metadata": {},
   "outputs": [],
   "source": []
  }
 ],
 "metadata": {
  "kernelspec": {
   "display_name": "venv",
   "language": "python",
   "name": "python3"
  },
  "language_info": {
   "codemirror_mode": {
    "name": "ipython",
    "version": 3
   },
   "file_extension": ".py",
   "mimetype": "text/x-python",
   "name": "python",
   "nbconvert_exporter": "python",
   "pygments_lexer": "ipython3",
   "version": "3.11.4"
  }
 },
 "nbformat": 4,
 "nbformat_minor": 2
}
